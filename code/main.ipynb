{
 "cells": [
  {
   "cell_type": "code",
   "execution_count": null,
   "metadata": {},
   "outputs": [],
   "source": [
    "import os\n",
    "import glob"
   ]
  },
  {
   "cell_type": "code",
   "execution_count": null,
   "metadata": {},
   "outputs": [],
   "source": [
    "# init model\n",
    "%run 'cn_checker.ipynb'"
   ]
  },
  {
   "cell_type": "code",
   "execution_count": null,
   "metadata": {},
   "outputs": [],
   "source": [
    "# get crns\n",
    "\n",
    "file_path = '../data/input/company_list.txt'\n",
    "df = pd.read_csv(file_path, sep= '\\t', encoding='cp949', index_col=False)\n",
    "cns = df['company_name'].to_list()\n",
    "len(cns)"
   ]
  },
  {
   "cell_type": "code",
   "execution_count": null,
   "metadata": {},
   "outputs": [],
   "source": [
    "cns = ['아로마티카', '신한디에스', '아모레퍼시픽']"
   ]
  },
  {
   "cell_type": "code",
   "execution_count": null,
   "metadata": {},
   "outputs": [],
   "source": [
    "# run model\n",
    "run_cn_checker_async(5, cns)"
   ]
  },
  {
   "cell_type": "code",
   "execution_count": null,
   "metadata": {},
   "outputs": [],
   "source": [
    "cns_result"
   ]
  },
  {
   "cell_type": "code",
   "execution_count": null,
   "metadata": {},
   "outputs": [],
   "source": [
    "#check result\n",
    "print('cns: {}, cns_fail: {}, cns_result: {}'.\n",
    "      format(len(cns), cns_fail, len(cns_result)))"
   ]
  },
  {
   "cell_type": "code",
   "execution_count": null,
   "metadata": {},
   "outputs": [],
   "source": [
    "#save df\n",
    "df = dataset(cns_result)\n",
    "save_csv(df)"
   ]
  },
  {
   "cell_type": "code",
   "execution_count": null,
   "metadata": {},
   "outputs": [],
   "source": [
    "# get result\n",
    "folder_path = '../data/result'\n",
    "csv_file_list = glob.glob(folder_path + '/*.csv')\n",
    "csv_file_list = sorted(csv_file_list)\n",
    "file_path = csv_file_list[-1]\n",
    "\n",
    "df = pd.read_csv(file_path, sep= '\\t',index_col=0)\n",
    "\n",
    "print('csv_file_list: ',csv_file_list)\n",
    "print('file_path: ',file_path)"
   ]
  },
  {
   "cell_type": "code",
   "execution_count": null,
   "metadata": {},
   "outputs": [],
   "source": [
    "# see result\n",
    "df"
   ]
  }
 ],
 "metadata": {
  "kernelspec": {
   "display_name": "Python 3",
   "language": "python",
   "name": "python3"
  },
  "language_info": {
   "codemirror_mode": {
    "name": "ipython",
    "version": 3
   },
   "file_extension": ".py",
   "mimetype": "text/x-python",
   "name": "python",
   "nbconvert_exporter": "python",
   "pygments_lexer": "ipython3",
   "version": "3.7.3"
  }
 },
 "nbformat": 4,
 "nbformat_minor": 4
}
