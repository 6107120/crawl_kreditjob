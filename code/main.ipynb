{
 "cells": [
  {
   "cell_type": "code",
   "execution_count": 1,
   "metadata": {},
   "outputs": [],
   "source": [
    "import os\n",
    "import glob"
   ]
  },
  {
   "cell_type": "code",
   "execution_count": 1,
   "metadata": {},
   "outputs": [],
   "source": [
    "# init model\n",
    "%run 'cn_checker.ipynb'"
   ]
  },
  {
   "cell_type": "code",
   "execution_count": 3,
   "metadata": {},
   "outputs": [
    {
     "data": {
      "text/plain": [
       "214"
      ]
     },
     "execution_count": 3,
     "metadata": {},
     "output_type": "execute_result"
    }
   ],
   "source": [
    "# get crns\n",
    "\n",
    "file_path = '../data/input/company_list.txt'\n",
    "df = pd.read_csv(file_path, sep= '\\t', encoding='cp949', index_col=False)\n",
    "cns = df['company_name'].to_list()\n",
    "len(cns)"
   ]
  },
  {
   "cell_type": "code",
   "execution_count": 10,
   "metadata": {},
   "outputs": [],
   "source": [
    "cns = ['메가존']"
   ]
  },
  {
   "cell_type": "code",
   "execution_count": 3,
   "metadata": {},
   "outputs": [],
   "source": [
    "# run model\n",
    "run_cn_checker_async(5, cns)"
   ]
  },
  {
   "cell_type": "code",
   "execution_count": 14,
   "metadata": {},
   "outputs": [
    {
     "data": {
      "text/plain": [
       "[['메가존', '서울, 강남구', '도매 및 소매업', '일반기업', '', '', ''],\n",
       " ['신한디에스', '서울, 중구', '정보 없음', '일반기업', '5,127', '922', '29']]"
      ]
     },
     "execution_count": 14,
     "metadata": {},
     "output_type": "execute_result"
    }
   ],
   "source": [
    "cns_result"
   ]
  },
  {
   "cell_type": "code",
   "execution_count": 14,
   "metadata": {},
   "outputs": [
    {
     "name": "stdout",
     "output_type": "stream",
     "text": [
      "cns: 3, cns_fail: 1, cns_result: 2\n"
     ]
    }
   ],
   "source": [
    "#check result\n",
    "print('cns: {}, cns_fail: {}, cns_result: {}'.\n",
    "      format(len(cns), cns_fail, len(cns_result)))"
   ]
  },
  {
   "cell_type": "code",
   "execution_count": 15,
   "metadata": {},
   "outputs": [],
   "source": [
    "#save df\n",
    "df = dataset(cns_result)\n",
    "save_csv(df)"
   ]
  },
  {
   "cell_type": "code",
   "execution_count": 16,
   "metadata": {},
   "outputs": [
    {
     "name": "stdout",
     "output_type": "stream",
     "text": [
      "csv_file_list:  ['../data/result/20200206014956.csv', '../data/result/20200206140853.csv', '../data/result/20200206185925.csv']\n",
      "file_path:  ../data/result/20200206185925.csv\n"
     ]
    }
   ],
   "source": [
    "# get result\n",
    "folder_path = '../data/result'\n",
    "csv_file_list = glob.glob(folder_path + '/*.csv')\n",
    "csv_file_list = sorted(csv_file_list)\n",
    "file_path = csv_file_list[-1]\n",
    "\n",
    "df = pd.read_csv(file_path, sep= '\\t',index_col=0)\n",
    "\n",
    "print('csv_file_list: ',csv_file_list)\n",
    "print('file_path: ',file_path)"
   ]
  },
  {
   "cell_type": "code",
   "execution_count": 17,
   "metadata": {},
   "outputs": [
    {
     "data": {
      "text/html": [
       "<div>\n",
       "<style scoped>\n",
       "    .dataframe tbody tr th:only-of-type {\n",
       "        vertical-align: middle;\n",
       "    }\n",
       "\n",
       "    .dataframe tbody tr th {\n",
       "        vertical-align: top;\n",
       "    }\n",
       "\n",
       "    .dataframe thead th {\n",
       "        text-align: right;\n",
       "    }\n",
       "</style>\n",
       "<table border=\"1\" class=\"dataframe\">\n",
       "  <thead>\n",
       "    <tr style=\"text-align: right;\">\n",
       "      <th></th>\n",
       "      <th>회사명</th>\n",
       "      <th>지역</th>\n",
       "      <th>산업군</th>\n",
       "      <th>type</th>\n",
       "      <th>연봉</th>\n",
       "      <th>인원</th>\n",
       "      <th>업력</th>\n",
       "    </tr>\n",
       "  </thead>\n",
       "  <tbody>\n",
       "    <tr>\n",
       "      <th>0</th>\n",
       "      <td>쓰리에스소프트</td>\n",
       "      <td>서울, 서초구</td>\n",
       "      <td>정보 없음</td>\n",
       "      <td>일반기업</td>\n",
       "      <td>block</td>\n",
       "      <td>block</td>\n",
       "      <td>block</td>\n",
       "    </tr>\n",
       "    <tr>\n",
       "      <th>1</th>\n",
       "      <td>비케이에스엔피</td>\n",
       "      <td>서울, 영등포구</td>\n",
       "      <td>정보 없음</td>\n",
       "      <td>일반기업</td>\n",
       "      <td>3,982</td>\n",
       "      <td>34</td>\n",
       "      <td>14</td>\n",
       "    </tr>\n",
       "    <tr>\n",
       "      <th>2</th>\n",
       "      <td>비아이씨엔에스</td>\n",
       "      <td>경기, 성남시</td>\n",
       "      <td>정보 없음</td>\n",
       "      <td>일반기업</td>\n",
       "      <td>3,958</td>\n",
       "      <td>124</td>\n",
       "      <td>21</td>\n",
       "    </tr>\n",
       "    <tr>\n",
       "      <th>3</th>\n",
       "      <td>비아이시큐리티</td>\n",
       "      <td>block</td>\n",
       "      <td>block</td>\n",
       "      <td>block</td>\n",
       "      <td>block</td>\n",
       "      <td>block</td>\n",
       "      <td>block</td>\n",
       "    </tr>\n",
       "    <tr>\n",
       "      <th>4</th>\n",
       "      <td>삼육오엠씨네트웍스</td>\n",
       "      <td>block</td>\n",
       "      <td>block</td>\n",
       "      <td>block</td>\n",
       "      <td>block</td>\n",
       "      <td>block</td>\n",
       "      <td>block</td>\n",
       "    </tr>\n",
       "    <tr>\n",
       "      <th>...</th>\n",
       "      <td>...</td>\n",
       "      <td>...</td>\n",
       "      <td>...</td>\n",
       "      <td>...</td>\n",
       "      <td>...</td>\n",
       "      <td>...</td>\n",
       "      <td>...</td>\n",
       "    </tr>\n",
       "    <tr>\n",
       "      <th>209</th>\n",
       "      <td>화인에스아이</td>\n",
       "      <td>block</td>\n",
       "      <td>block</td>\n",
       "      <td>block</td>\n",
       "      <td>block</td>\n",
       "      <td>block</td>\n",
       "      <td>block</td>\n",
       "    </tr>\n",
       "    <tr>\n",
       "      <th>210</th>\n",
       "      <td>흥원스탭</td>\n",
       "      <td>block</td>\n",
       "      <td>block</td>\n",
       "      <td>block</td>\n",
       "      <td>block</td>\n",
       "      <td>block</td>\n",
       "      <td>block</td>\n",
       "    </tr>\n",
       "    <tr>\n",
       "      <th>211</th>\n",
       "      <td>휴먼스퀘어</td>\n",
       "      <td>block</td>\n",
       "      <td>block</td>\n",
       "      <td>block</td>\n",
       "      <td>block</td>\n",
       "      <td>block</td>\n",
       "      <td>block</td>\n",
       "    </tr>\n",
       "    <tr>\n",
       "      <th>212</th>\n",
       "      <td>흥국철강상사</td>\n",
       "      <td>block</td>\n",
       "      <td>block</td>\n",
       "      <td>block</td>\n",
       "      <td>block</td>\n",
       "      <td>block</td>\n",
       "      <td>block</td>\n",
       "    </tr>\n",
       "    <tr>\n",
       "      <th>213</th>\n",
       "      <td>히든어빌리티</td>\n",
       "      <td>block</td>\n",
       "      <td>block</td>\n",
       "      <td>block</td>\n",
       "      <td>block</td>\n",
       "      <td>block</td>\n",
       "      <td>block</td>\n",
       "    </tr>\n",
       "  </tbody>\n",
       "</table>\n",
       "<p>214 rows × 7 columns</p>\n",
       "</div>"
      ],
      "text/plain": [
       "           회사명        지역    산업군   type     연봉     인원     업력\n",
       "0      쓰리에스소프트   서울, 서초구  정보 없음   일반기업  block  block  block\n",
       "1      비케이에스엔피  서울, 영등포구  정보 없음   일반기업  3,982     34     14\n",
       "2      비아이씨엔에스   경기, 성남시  정보 없음   일반기업  3,958    124     21\n",
       "3      비아이시큐리티     block  block  block  block  block  block\n",
       "4    삼육오엠씨네트웍스     block  block  block  block  block  block\n",
       "..         ...       ...    ...    ...    ...    ...    ...\n",
       "209     화인에스아이     block  block  block  block  block  block\n",
       "210       흥원스탭     block  block  block  block  block  block\n",
       "211      휴먼스퀘어     block  block  block  block  block  block\n",
       "212     흥국철강상사     block  block  block  block  block  block\n",
       "213     히든어빌리티     block  block  block  block  block  block\n",
       "\n",
       "[214 rows x 7 columns]"
      ]
     },
     "execution_count": 17,
     "metadata": {},
     "output_type": "execute_result"
    }
   ],
   "source": [
    "# see result\n",
    "df"
   ]
  },
  {
   "cell_type": "code",
   "execution_count": null,
   "metadata": {},
   "outputs": [],
   "source": []
  }
 ],
 "metadata": {
  "kernelspec": {
   "display_name": "Python 3",
   "language": "python",
   "name": "python3"
  },
  "language_info": {
   "codemirror_mode": {
    "name": "ipython",
    "version": 3
   },
   "file_extension": ".py",
   "mimetype": "text/x-python",
   "name": "python",
   "nbconvert_exporter": "python",
   "pygments_lexer": "ipython3",
   "version": "3.8.1"
  }
 },
 "nbformat": 4,
 "nbformat_minor": 4
}
