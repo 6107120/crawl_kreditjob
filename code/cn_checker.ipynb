{
 "cells": [
  {
   "cell_type": "code",
   "execution_count": 1,
   "metadata": {},
   "outputs": [],
   "source": [
    "import pandas as pd\n",
    "import numpy as np\n",
    "import time\n",
    "import lxml\n",
    "from concurrent.futures.thread import ThreadPoolExecutor\n",
    "import asyncio\n",
    "import nest_asyncio\n",
    "nest_asyncio.apply()\n",
    "\n",
    "from selenium.webdriver import Chrome\n",
    "from selenium.webdriver.common.keys import Keys\n",
    "from selenium.webdriver.common.by import By\n",
    "from selenium.webdriver.support.ui import WebDriverWait\n",
    "from selenium.webdriver.support import expected_conditions as EC\n",
    "from selenium.common import exceptions as e\n",
    "\n",
    "from selenium.webdriver.chrome.options import Options  \n",
    "\n"
   ]
  },
  {
   "cell_type": "code",
   "execution_count": 3,
   "metadata": {},
   "outputs": [],
   "source": [
    "# init cn\n",
    "global cns\n",
    "global cns_result\n",
    "global cns_fail\n",
    "cns = ['신한디에스', '메가존', '똥멍충이']\n",
    "cns_result = []\n",
    "cns_fail = 0"
   ]
  },
  {
   "cell_type": "code",
   "execution_count": 3,
   "metadata": {},
   "outputs": [],
   "source": [
    "def webdriver_init(dw= '../webdriver/chromedriver'):\n",
    "    chrome_options = Options()  \n",
    "    chrome_options.add_argument(\"--headless\")\n",
    "    return Chrome(dw, options=chrome_options)"
   ]
  },
  {
   "cell_type": "code",
   "execution_count": 4,
   "metadata": {},
   "outputs": [],
   "source": [
    "def base_site(browser, delay= 5, url= 'https://kreditjob.com/company'):\n",
    "    \n",
    "    browser.get(url)\n",
    "    browser.implicitly_wait(delay)"
   ]
  },
  {
   "cell_type": "code",
   "execution_count": 5,
   "metadata": {},
   "outputs": [],
   "source": [
    "def cn_check(browser, cn, delay= 5):\n",
    "    flag = True\n",
    "    browser.find_element_by_class_name('search-query').send_keys(cn)\n",
    "    browser.implicitly_wait(0.1)\n",
    "    browser.find_element_by_class_name('search-query').send_keys(Keys.ENTER)\n",
    "    \n",
    "    try:\n",
    "        WebDriverWait(browser, delay).until(EC.presence_of_element_located((By.CLASS_NAME, 'company-name')))\n",
    "    except e.TimeoutException:\n",
    "        flag = False\n",
    "    return flag\n",
    "    "
   ]
  },
  {
   "cell_type": "code",
   "execution_count": 32,
   "metadata": {},
   "outputs": [],
   "source": [
    "def get_cn_info(browser, cn):\n",
    "    result = [cn]\n",
    "    \n",
    "    area = ''\n",
    "    industry = ''\n",
    "    cn_type = ''\n",
    "    salary = ''\n",
    "    emp_count = ''\n",
    "    on_bs_years = ''\n",
    "    \n",
    "    try:\n",
    "        common_datas = browser.find_elements_by_xpath(\"//span[@class='cat_text']\")\n",
    "        area, industry, cn_type = common_datas[0].text, common_datas[1].text, common_datas[2].text\n",
    "    except Exception as e:\n",
    "        pass\n",
    "        \n",
    "    try:\n",
    "        salary = browser.find_element_by_class_name('salary').text\n",
    "    except Exception as e:\n",
    "        pass\n",
    "\n",
    "    try:\n",
    "        info_datas = browser.find_elements_by_xpath(\"//span[@class='company-info-data']\")\n",
    "        emp_count, on_bs_years = info_datas[0].text, info_datas[1].text\n",
    "    except Exception as e:\n",
    "        pass\n",
    "        \n",
    "#     ratios = browser.find_elements_by_xpath(\"//span[@class='company-info-ratio']\")\n",
    "#     join, leave = ratios[0].text, ratios[1].text\n",
    "#     sales_data = browser.find_elements_by_xpath(\"//span[@class='sales-data']\")\n",
    "#     revenue, revenue_per_emp = sales_data[0].text, sales_data[1].text\n",
    "\n",
    "    result.append(area)\n",
    "    result.append(industry)\n",
    "    result.append(cn_type)\n",
    "    result.append(salary)\n",
    "    result.append(emp_count)\n",
    "    result.append(on_bs_years)\n",
    "#     result.append(join)\n",
    "#     result.append(leave)\n",
    "#     result.append(revenue)\n",
    "#     result.append(revenue_per_emp)\n",
    "    \n",
    "    return result"
   ]
  },
  {
   "cell_type": "code",
   "execution_count": 7,
   "metadata": {},
   "outputs": [],
   "source": [
    "def execution_all(cn):\n",
    "    global cns_fail\n",
    "\n",
    "    browser = webdriver_init()\n",
    "    base_site(browser, 0.1)\n",
    "    \n",
    "    if cn_check(browser, cn):\n",
    "        result = get_cn_info(browser, cn)\n",
    "        cns_result.append(result)\n",
    "    else:\n",
    "        cns_fail += 1\n",
    "    \n",
    "    browser.close()\n",
    "#     print('finish: {}'.format(cn))"
   ]
  },
  {
   "cell_type": "code",
   "execution_count": 7,
   "metadata": {},
   "outputs": [],
   "source": [
    "def dataset(data):\n",
    "    df_columns = ['회사명','지역','산업군','type','연봉','인원','업력']\n",
    "#     df_columns = ['회사명','지역','산업군','type','연봉','인원','업력','입사율','퇴사율','매출액','1인당매출액']\n",
    "    df = pd.DataFrame(data, columns=df_columns)\n",
    "    return df"
   ]
  },
  {
   "cell_type": "code",
   "execution_count": 6,
   "metadata": {},
   "outputs": [],
   "source": [
    "def save_csv(df):\n",
    "    now = time.localtime()\n",
    "    now = time.strftime(\"%Y%m%d%H%M%S\", now)\n",
    "    file_name = '../data/result/' + now + '.csv'\n",
    "    df.to_csv(file_name,'\\t',mode='w')"
   ]
  },
  {
   "cell_type": "code",
   "execution_count": 5,
   "metadata": {},
   "outputs": [],
   "source": [
    "def run_cn_checker_async(thread_workers_count, cns):\n",
    "    loop = asyncio.get_running_loop()\n",
    "    executor = ThreadPoolExecutor(thread_workers_count)\n",
    "    \n",
    "    for cn in cns:\n",
    "        loop.run_in_executor(executor, execution_all, cn)\n",
    "\n",
    "        \n",
    "    loop.run_until_complete(asyncio.gather(*asyncio.all_tasks(loop)))    "
   ]
  },
  {
   "cell_type": "code",
   "execution_count": null,
   "metadata": {},
   "outputs": [],
   "source": []
  }
 ],
 "metadata": {
  "kernelspec": {
   "display_name": "Python 3",
   "language": "python",
   "name": "python3"
  },
  "language_info": {
   "codemirror_mode": {
    "name": "ipython",
    "version": 3
   },
   "file_extension": ".py",
   "mimetype": "text/x-python",
   "name": "python",
   "nbconvert_exporter": "python",
   "pygments_lexer": "ipython3",
   "version": "3.8.1"
  }
 },
 "nbformat": 4,
 "nbformat_minor": 4
}
